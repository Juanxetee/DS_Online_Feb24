{
 "cells": [
  {
   "cell_type": "markdown",
   "metadata": {},
   "source": [
    "# EJERCICIOS REPASO"
   ]
  },
  {
   "cell_type": "markdown",
   "metadata": {},
   "source": [
    "## 01 Programación básica"
   ]
  },
  {
   "cell_type": "markdown",
   "metadata": {},
   "source": [
    "Crea un programa en Python que tome una lista de números (que incluye tanto positivos como negativos) y genere una nueva lista que contenga solo los números positivos."
   ]
  },
  {
   "cell_type": "code",
   "execution_count": 1,
   "metadata": {},
   "outputs": [
    {
     "name": "stdout",
     "output_type": "stream",
     "text": [
      "Lista original: [-10, 5, 3, -1, 0, 12, -7, 20, -3, 8]\n",
      "Números positivos: [5, 3, 12, 20, 8]\n"
     ]
    }
   ],
   "source": [
    "# Definimos la lista original con números tanto positivos como negativos\n",
    "numeros = [-10, 5, 3, -1, 0, 12, -7, 20, -3, 8]\n",
    "\n",
    "# Usamos una comprensión de listas para filtrar solo los números positivos\n",
    "numeros_positivos = [num for num in numeros if num > 0]\n",
    "\n",
    "# Imprimimos la lista original y la lista de números positivos\n",
    "print(\"Lista original:\", numeros)\n",
    "print(\"Números positivos:\", numeros_positivos)"
   ]
  },
  {
   "cell_type": "markdown",
   "metadata": {},
   "source": [
    "Crea un programa en Python que tome una frase como entrada y cuente cuántas veces aparece cada vocal (a, e, i, o, u) en la frase. Ignora la distinción entre mayúsculas y minúsculas."
   ]
  },
  {
   "cell_type": "code",
   "execution_count": 2,
   "metadata": {},
   "outputs": [
    {
     "name": "stdout",
     "output_type": "stream",
     "text": [
      "Conteo de vocales:\n",
      "a: 3\n",
      "e: 3\n",
      "i: 3\n",
      "o: 3\n",
      "u: 1\n"
     ]
    }
   ],
   "source": [
    "# Pedir al usuario que ingrese una frase\n",
    "frase = input(\"Ingresa una frase: \")\n",
    "\n",
    "# Inicializar un diccionario para contar vocales\n",
    "vocales_count = {\n",
    "    'a': 0,\n",
    "    'e': 0,\n",
    "    'i': 0,\n",
    "    'o': 0,\n",
    "    'u': 0\n",
    "}\n",
    "\n",
    "# Recorrer cada carácter en la frase\n",
    "for char in frase.lower():  # Convertir a minúsculas para ignorar distinción\n",
    "    if char in vocales_count:  # Verificar si el carácter es una vocal\n",
    "        vocales_count[char] += 1  # Incrementar el conteo de la vocal\n",
    "\n",
    "# Imprimir el resultado\n",
    "print(\"Conteo de vocales:\")\n",
    "for vocal, conteo in vocales_count.items():\n",
    "    print(f\"{vocal}: {conteo}\")"
   ]
  }
 ],
 "metadata": {
  "kernelspec": {
   "display_name": "Python 3",
   "language": "python",
   "name": "python3"
  },
  "language_info": {
   "codemirror_mode": {
    "name": "ipython",
    "version": 3
   },
   "file_extension": ".py",
   "mimetype": "text/x-python",
   "name": "python",
   "nbconvert_exporter": "python",
   "pygments_lexer": "ipython3",
   "version": "3.12.5"
  }
 },
 "nbformat": 4,
 "nbformat_minor": 2
}
